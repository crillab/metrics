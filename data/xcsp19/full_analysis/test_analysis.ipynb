{
 "cells": [
  {
   "cell_type": "code",
   "execution_count": 1,
   "metadata": {},
   "outputs": [],
   "source": [
    "from metrics.wallet import *"
   ]
  },
  {
   "cell_type": "code",
   "execution_count": 2,
   "metadata": {},
   "outputs": [
    {
     "name": "stderr",
     "output_type": "stream",
     "text": [
      "/Users/wattez/Documents/phd/metrics/metrics/wallet/dataframe/builder.py:141: UserWarning:\n",
      "\n",
      "4 experiments are inconsistent and are declared as unsuccessful.\n",
      "\n"
     ]
    }
   ],
   "source": [
    "unconsistent_returns = {\n",
    "    'ERR WRONGCERT', 'ERR UNSAT'\n",
    "}\n",
    "\n",
    "successfull_returns = {'SAT', 'UNSAT'}\n",
    "\n",
    "is_consistent_by_xp=(lambda x: not x['Checked answer'] in unconsistent_returns)\n",
    "is_consistent_by_input=(lambda df: len(set(df['Checked answer'].unique()) & successfull_returns) < 2)\n",
    "is_success=(lambda x: x['Checked answer'] in successfull_returns)\n",
    "\n",
    "analysis = Analysis(\n",
    "    input_file='config/metrics_scalpel.yml',\n",
    "    is_consistent_by_xp=is_consistent_by_xp,\n",
    "    is_consistent_by_input=is_consistent_by_input,\n",
    "    is_success=is_success\n",
    ")"
   ]
  },
  {
   "cell_type": "code",
   "execution_count": 3,
   "metadata": {},
   "outputs": [
    {
     "data": {
      "text/plain": [
       "<metrics.wallet.dataframe.builder.Analysis at 0x11d095f10>"
      ]
     },
     "execution_count": 3,
     "metadata": {},
     "output_type": "execute_result"
    }
   ],
   "source": [
    "import re\n",
    "family_re = re.compile(r'^XCSP\\d\\d/(.*?)/')\n",
    "analysis.add_variable(\n",
    "    new_var='family', \n",
    "    function=lambda x: family_re.match(x['input']).group(1),\n",
    "    inplace=True\n",
    ")"
   ]
  },
  {
   "cell_type": "code",
   "execution_count": 4,
   "metadata": {},
   "outputs": [
    {
     "data": {
      "text/plain": [
       "<metrics.wallet.dataframe.builder.Analysis at 0x11d095f10>"
      ]
     },
     "execution_count": 4,
     "metadata": {},
     "output_type": "execute_result"
    }
   ],
   "source": [
    "analysis.remove_variables(\n",
    "    vars=['Category', 'Objective function'],\n",
    "    inplace=True\n",
    ")"
   ]
  },
  {
   "cell_type": "code",
   "execution_count": 5,
   "metadata": {},
   "outputs": [],
   "source": [
    "analysis2 = analysis.add_variable(\n",
    "    new_var='experiment_ware', \n",
    "    function=lambda x: x['experiment_ware'] + '-bis',\n",
    "    inplace=False\n",
    ")"
   ]
  },
  {
   "cell_type": "code",
   "execution_count": 6,
   "metadata": {},
   "outputs": [
    {
     "name": "stderr",
     "output_type": "stream",
     "text": [
      "/Users/wattez/Documents/phd/metrics/metrics/wallet/dataframe/builder.py:141: UserWarning:\n",
      "\n",
      "8 experiments are inconsistent and are declared as unsuccessful.\n",
      "\n"
     ]
    }
   ],
   "source": [
    "analysis3 = analysis.add_analysis(\n",
    "    analysis=analysis2,\n",
    "    is_consistent_by_xp=is_consistent_by_xp,\n",
    "    is_consistent_by_input=is_consistent_by_input,\n",
    "    is_success=is_success\n",
    ")"
   ]
  },
  {
   "cell_type": "code",
   "execution_count": 9,
   "metadata": {},
   "outputs": [],
   "source": [
    "analysis_vbs = analysis.add_virtual_experiment_ware(\n",
    "    function=find_best_cpu_time_input, \n",
    "    xp_ware_set=None, \n",
    "    name='vbew'\n",
    ")"
   ]
  },
  {
   "cell_type": "code",
   "execution_count": 11,
   "metadata": {},
   "outputs": [
    {
     "data": {
      "text/plain": [
       "8100"
      ]
     },
     "execution_count": 11,
     "metadata": {},
     "output_type": "execute_result"
    }
   ],
   "source": [
    "len(analysis_vbs.data_frame)"
   ]
  },
  {
   "cell_type": "code",
   "execution_count": 8,
   "metadata": {},
   "outputs": [],
   "source": [
    "analysis.export('save.csv')"
   ]
  }
 ],
 "metadata": {
  "kernelspec": {
   "display_name": "Python 3",
   "language": "python",
   "name": "python3"
  },
  "language_info": {
   "codemirror_mode": {
    "name": "ipython",
    "version": 3
   },
   "file_extension": ".py",
   "mimetype": "text/x-python",
   "name": "python",
   "nbconvert_exporter": "python",
   "pygments_lexer": "ipython3",
   "version": "3.8.5"
  },
  "latex_envs": {
   "LaTeX_envs_menu_present": true,
   "autoclose": false,
   "autocomplete": true,
   "bibliofile": "biblio.bib",
   "cite_by": "apalike",
   "current_citInitial": 1,
   "eqLabelWithNumbers": true,
   "eqNumInitial": 1,
   "hotkeys": {
    "equation": "Ctrl-E",
    "itemize": "Ctrl-I"
   },
   "labels_anchors": false,
   "latex_user_defs": false,
   "report_style_numbering": false,
   "user_envs_cfg": false
  }
 },
 "nbformat": 4,
 "nbformat_minor": 4
}
