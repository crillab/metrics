{
 "cells": [
  {
   "cell_type": "code",
   "execution_count": 1,
   "metadata": {},
   "outputs": [],
   "source": [
    "from metrics.wallet import *"
   ]
  },
  {
   "cell_type": "code",
   "execution_count": 2,
   "metadata": {},
   "outputs": [
    {
     "name": "stderr",
     "output_type": "stream",
     "text": [
      "/Users/wattez/Documents/phd/metrics/metrics/wallet/dataframe/builder.py:196: UserWarning: 4 experiments are inconsistent and are declared as unsuccessful.\n",
      "  warn(f'{n_inconsistencies} experiments are inconsistent and are declared as unsuccessful.')\n"
     ]
    }
   ],
   "source": [
    "inconsistent_returns = {\n",
    "    'ERR WRONGCERT', 'ERR UNSAT'\n",
    "}\n",
    "\n",
    "successful_returns = {'SAT', 'UNSAT'}\n",
    "\n",
    "is_consistent_by_xp=(lambda x: not x['Checked answer'] in inconsistent_returns)\n",
    "is_consistent_by_input=(lambda df: len(set(df['Checked answer'].unique()) & successful_returns) < 2)\n",
    "is_success=(lambda x: x['Checked answer'] in successful_returns)\n",
    "\n",
    "analysis = Analysis(\n",
    "    input_file='config/metrics_scalpel.yml',\n",
    "    is_consistent_by_xp=is_consistent_by_xp,\n",
    "    is_consistent_by_input=is_consistent_by_input,\n",
    "    is_success=is_success\n",
    ")"
   ]
  },
  {
   "cell_type": "code",
   "execution_count": 20,
   "metadata": {},
   "outputs": [],
   "source": [
    "import re\n",
    "family_re = re.compile(r'^XCSP\\d\\d/(.*?)/')\n",
    "new_analysis = analysis.add_variable(\n",
    "    new_var='family', \n",
    "    function=lambda x: family_re.match(x['input']).group(1),\n",
    "    inplace=True\n",
    ")"
   ]
  },
  {
   "cell_type": "code",
   "execution_count": 27,
   "metadata": {},
   "outputs": [
    {
     "name": "stdout",
     "output_type": "stream",
     "text": [
      "|      | input                                                        | family        |\n",
      "|-----:|:-------------------------------------------------------------|:--------------|\n",
      "| 3641 | XCSP17/Primes/Primes-m1-p25/Primes-25-80-2-7.xml             | Primes        |\n",
      "| 2992 | XCSP17/MaxCSP/MaxCSP-maxclique-s1/MaxCSP-brock-800-2.xml     | MaxCSP        |\n",
      "| 2956 | XCSP17/MagicSquare/MagicSquare-sum-s1/MagicSquare-13-sum.xml | MagicSquare   |\n",
      "| 7106 | XCSP18/GracefulGraph/GracefulGraph-K05-P02_c18.xml           | GracefulGraph |\n",
      "| 4423 | XCSP17/QRandom/QRandom-mdd-7-25-5/mdd-7-25-5-56-09.xml       | QRandom       |\n"
     ]
    }
   ],
   "source": [
    "print(new_analysis.data_frame[['input', 'family']].sample(5).to_markdown())"
   ]
  },
  {
   "cell_type": "code",
   "execution_count": 4,
   "metadata": {},
   "outputs": [
    {
     "data": {
      "text/plain": [
       "<metrics.wallet.dataframe.builder.Analysis at 0x116c5bdc0>"
      ]
     },
     "execution_count": 4,
     "metadata": {},
     "output_type": "execute_result"
    }
   ],
   "source": [
    "analysis.remove_variables(\n",
    "    vars=['Category', 'Objective function'],\n",
    "    inplace=True\n",
    ")"
   ]
  },
  {
   "cell_type": "code",
   "execution_count": 5,
   "metadata": {},
   "outputs": [],
   "source": [
    "analysis2 = analysis.add_variable(\n",
    "    new_var='experiment_ware', \n",
    "    function=lambda x: x['experiment_ware'] + '-bis',\n",
    "    inplace=False\n",
    ")"
   ]
  },
  {
   "cell_type": "code",
   "execution_count": 6,
   "metadata": {},
   "outputs": [
    {
     "name": "stderr",
     "output_type": "stream",
     "text": [
      "/Users/wattez/Documents/phd/metrics/metrics/wallet/dataframe/builder.py:196: UserWarning: 8 experiments are inconsistent and are declared as unsuccessful.\n",
      "  warn(f'{n_inconsistencies} experiments are inconsistent and are declared as unsuccessful.')\n"
     ]
    }
   ],
   "source": [
    "analysis3 = analysis.add_analysis(\n",
    "    analysis=analysis2,\n",
    "    is_consistent_by_xp=is_consistent_by_xp,\n",
    "    is_consistent_by_input=is_consistent_by_input,\n",
    "    is_success=is_success\n",
    ")"
   ]
  },
  {
   "cell_type": "code",
   "execution_count": 7,
   "metadata": {},
   "outputs": [],
   "source": [
    "analysis_vbs = analysis.add_virtual_experiment_ware(\n",
    "    function=find_best_cpu_time_input, \n",
    "    xp_ware_set=None, \n",
    "    name='vbew'\n",
    ")"
   ]
  },
  {
   "cell_type": "code",
   "execution_count": 8,
   "metadata": {},
   "outputs": [
    {
     "data": {
      "text/plain": [
       "8100"
      ]
     },
     "execution_count": 8,
     "metadata": {},
     "output_type": "execute_result"
    }
   ],
   "source": [
    "len(analysis_vbs.data_frame)"
   ]
  },
  {
   "cell_type": "code",
   "execution_count": 9,
   "metadata": {},
   "outputs": [
    {
     "data": {
      "text/plain": [
       "array(['BTD 19.07.01', 'cosoco 2.O parallel', 'cosoco 2.0 parallel',\n",
       "       'choco-solver 2019-09-16', 'choco-solver 2019-09-20',\n",
       "       'choco-solver 2019-06-14', 'choco-solver 2019-09-20 parallel',\n",
       "       'choco-solver 2019-09-24 parallel',\n",
       "       'choco-solver 2019-06-14 parallel',\n",
       "       'choco-solver 2019-09-16 parallel', 'AbsCon 2019-07-23',\n",
       "       'Concrete 3.12.3', 'Fun-sCOP hybrid+CryptoMiniSat (2019-06-15)',\n",
       "       'Fun-sCOP order+GlueMiniSat (2019-06-15)', 'cosoco 2.0',\n",
       "       'cosoco 2', 'Fun-sCOP hybrid+ManyGlucose (2019-09-22)',\n",
       "       'Fun-sCOP order+ManyGlucose (2019-09-22)',\n",
       "       'Fun-sCOP hybrid+ManyGlucose (2019-06-15)',\n",
       "       'Fun-sCOP order+ManyGlucose (2019-06-15)',\n",
       "       'choco-solver 2019-09-24', 'Concrete 3.10', 'PicatSAT 2019-09-12',\n",
       "       'Concrete 3.12.2'], dtype=object)"
      ]
     },
     "execution_count": 9,
     "metadata": {},
     "output_type": "execute_result"
    }
   ],
   "source": [
    "analysis.experiment_wares"
   ]
  },
  {
   "cell_type": "code",
   "execution_count": 10,
   "metadata": {},
   "outputs": [
    {
     "data": {
      "text/plain": [
       "array(['BTD 19.07.01', 'choco-solver 2019-09-16',\n",
       "       'choco-solver 2019-09-20', 'choco-solver 2019-06-14',\n",
       "       'AbsCon 2019-07-23', 'Concrete 3.12.3',\n",
       "       'Fun-sCOP hybrid+CryptoMiniSat (2019-06-15)',\n",
       "       'Fun-sCOP order+GlueMiniSat (2019-06-15)', 'cosoco 2.0',\n",
       "       'cosoco 2', 'choco-solver 2019-09-24', 'Concrete 3.10',\n",
       "       'PicatSAT 2019-09-12', 'Concrete 3.12.2'], dtype=object)"
      ]
     },
     "execution_count": 10,
     "metadata": {},
     "output_type": "execute_result"
    }
   ],
   "source": [
    "analysis_no_para = analysis.filter_analysis(lambda x: 'parallel' not in x['experiment_ware'])\\\n",
    "                            .filter_analysis(lambda x: 'Many' not in x['experiment_ware'])\n",
    "analysis_no_para.experiment_wares"
   ]
  },
  {
   "cell_type": "code",
   "execution_count": 11,
   "metadata": {},
   "outputs": [],
   "source": [
    "analysis_clean = analysis_no_para.remove_experiment_wares({\n",
    "    'Concrete 3.12.2', \n",
    "    'cosoco 2.0'\n",
    "})"
   ]
  },
  {
   "cell_type": "code",
   "execution_count": 12,
   "metadata": {},
   "outputs": [
    {
     "data": {
      "text/plain": [
       "array(['BTD 19.07.01', 'choco-solver 2019-09-16',\n",
       "       'choco-solver 2019-09-20', 'choco-solver 2019-06-14',\n",
       "       'AbsCon 2019-07-23', 'Concrete 3.12.3',\n",
       "       'Fun-sCOP hybrid+CryptoMiniSat (2019-06-15)',\n",
       "       'Fun-sCOP order+GlueMiniSat (2019-06-15)', 'cosoco 2',\n",
       "       'choco-solver 2019-09-24', 'Concrete 3.10', 'PicatSAT 2019-09-12'],\n",
       "      dtype=object)"
      ]
     },
     "execution_count": 12,
     "metadata": {},
     "output_type": "execute_result"
    }
   ],
   "source": [
    "analysis_clean.experiment_wares"
   ]
  },
  {
   "cell_type": "code",
   "execution_count": 13,
   "metadata": {},
   "outputs": [
    {
     "data": {
      "text/plain": [
       "59"
      ]
     },
     "execution_count": 13,
     "metadata": {},
     "output_type": "execute_result"
    }
   ],
   "source": [
    "a = analysis.filter_inputs(\n",
    "    function=lambda x: x['cpu_time'] > 100,\n",
    "    how='all'\n",
    ")\n",
    "\n",
    "len(a.inputs)"
   ]
  },
  {
   "cell_type": "code",
   "execution_count": 14,
   "metadata": {},
   "outputs": [
    {
     "name": "stdout",
     "output_type": "stream",
     "text": [
      "273\n",
      "244\n",
      "27\n",
      "56\n"
     ]
    }
   ],
   "source": [
    "print(len(analysis.delete_common_failed_inputs().inputs))\n",
    "print(len(analysis.delete_common_solved_inputs().inputs))\n",
    "print(len(analysis.keep_common_failed_inputs().inputs))\n",
    "print(len(analysis.keep_common_solved_inputs().inputs))"
   ]
  },
  {
   "cell_type": "code",
   "execution_count": 15,
   "metadata": {},
   "outputs": [
    {
     "data": {
      "text/plain": [
       "[<metrics.wallet.dataframe.builder.Analysis at 0x1184e5b80>,\n",
       " <metrics.wallet.dataframe.builder.Analysis at 0x1184e5d30>,\n",
       " <metrics.wallet.dataframe.builder.Analysis at 0x1184e5ee0>,\n",
       " <metrics.wallet.dataframe.builder.Analysis at 0x1184e5100>,\n",
       " <metrics.wallet.dataframe.builder.Analysis at 0x1184e5610>,\n",
       " <metrics.wallet.dataframe.builder.Analysis at 0x1184f07f0>,\n",
       " <metrics.wallet.dataframe.builder.Analysis at 0x1184e59d0>,\n",
       " <metrics.wallet.dataframe.builder.Analysis at 0x1184e54c0>,\n",
       " <metrics.wallet.dataframe.builder.Analysis at 0x1184f0b50>,\n",
       " <metrics.wallet.dataframe.builder.Analysis at 0x1187f7c10>,\n",
       " <metrics.wallet.dataframe.builder.Analysis at 0x1187f7460>,\n",
       " <metrics.wallet.dataframe.builder.Analysis at 0x1187f7730>,\n",
       " <metrics.wallet.dataframe.builder.Analysis at 0x1187f7e20>,\n",
       " <metrics.wallet.dataframe.builder.Analysis at 0x118810a00>,\n",
       " <metrics.wallet.dataframe.builder.Analysis at 0x118810580>,\n",
       " <metrics.wallet.dataframe.builder.Analysis at 0x118810d60>,\n",
       " <metrics.wallet.dataframe.builder.Analysis at 0x1188104c0>,\n",
       " <metrics.wallet.dataframe.builder.Analysis at 0x1188100a0>,\n",
       " <metrics.wallet.dataframe.builder.Analysis at 0x1184e5580>,\n",
       " <metrics.wallet.dataframe.builder.Analysis at 0x1187e9df0>,\n",
       " <metrics.wallet.dataframe.builder.Analysis at 0x1187e9c10>,\n",
       " <metrics.wallet.dataframe.builder.Analysis at 0x1187e92b0>,\n",
       " <metrics.wallet.dataframe.builder.Analysis at 0x1187e9a30>,\n",
       " <metrics.wallet.dataframe.builder.Analysis at 0x1187e9d60>,\n",
       " <metrics.wallet.dataframe.builder.Analysis at 0x118544ca0>,\n",
       " <metrics.wallet.dataframe.builder.Analysis at 0x118544880>,\n",
       " <metrics.wallet.dataframe.builder.Analysis at 0x118544e80>,\n",
       " <metrics.wallet.dataframe.builder.Analysis at 0x1185445b0>,\n",
       " <metrics.wallet.dataframe.builder.Analysis at 0x118544be0>,\n",
       " <metrics.wallet.dataframe.builder.Analysis at 0x118532c40>,\n",
       " <metrics.wallet.dataframe.builder.Analysis at 0x118532ca0>,\n",
       " <metrics.wallet.dataframe.builder.Analysis at 0x118532f10>,\n",
       " <metrics.wallet.dataframe.builder.Analysis at 0x1185328e0>,\n",
       " <metrics.wallet.dataframe.builder.Analysis at 0x118532fa0>,\n",
       " <metrics.wallet.dataframe.builder.Analysis at 0x118427760>,\n",
       " <metrics.wallet.dataframe.builder.Analysis at 0x118427c40>,\n",
       " <metrics.wallet.dataframe.builder.Analysis at 0x118427a90>,\n",
       " <metrics.wallet.dataframe.builder.Analysis at 0x118427d60>,\n",
       " <metrics.wallet.dataframe.builder.Analysis at 0x1189c93d0>,\n",
       " <metrics.wallet.dataframe.builder.Analysis at 0x1189c9dc0>,\n",
       " <metrics.wallet.dataframe.builder.Analysis at 0x1189c9910>,\n",
       " <metrics.wallet.dataframe.builder.Analysis at 0x1184f03a0>,\n",
       " <metrics.wallet.dataframe.builder.Analysis at 0x11899c8b0>,\n",
       " <metrics.wallet.dataframe.builder.Analysis at 0x11899c550>,\n",
       " <metrics.wallet.dataframe.builder.Analysis at 0x11899cdf0>,\n",
       " <metrics.wallet.dataframe.builder.Analysis at 0x11899c580>,\n",
       " <metrics.wallet.dataframe.builder.Analysis at 0x118810c40>,\n",
       " <metrics.wallet.dataframe.builder.Analysis at 0x1189b1f40>]"
      ]
     },
     "execution_count": 15,
     "metadata": {},
     "output_type": "execute_result"
    }
   ],
   "source": [
    "analysis.groupby('family')"
   ]
  },
  {
   "cell_type": "code",
   "execution_count": 16,
   "metadata": {},
   "outputs": [
    {
     "data": {
      "text/html": [
       "<div>\n",
       "<style scoped>\n",
       "    .dataframe tbody tr th:only-of-type {\n",
       "        vertical-align: middle;\n",
       "    }\n",
       "\n",
       "    .dataframe tbody tr th {\n",
       "        vertical-align: top;\n",
       "    }\n",
       "\n",
       "    .dataframe thead th {\n",
       "        text-align: right;\n",
       "    }\n",
       "</style>\n",
       "<table border=\"1\" class=\"dataframe\">\n",
       "  <thead>\n",
       "    <tr style=\"text-align: right;\">\n",
       "      <th></th>\n",
       "      <th>input</th>\n",
       "      <th>experiment_ware</th>\n",
       "      <th>cpu_time</th>\n",
       "      <th>Checked answer</th>\n",
       "      <th>Wallclock time</th>\n",
       "      <th>Memory</th>\n",
       "      <th>Solver name</th>\n",
       "      <th>Solver version</th>\n",
       "      <th>timeout</th>\n",
       "      <th>error</th>\n",
       "      <th>success</th>\n",
       "      <th>missing</th>\n",
       "      <th>consistent_xp</th>\n",
       "      <th>consistent_input</th>\n",
       "      <th>family</th>\n",
       "    </tr>\n",
       "  </thead>\n",
       "  <tbody>\n",
       "    <tr>\n",
       "      <th>7773</th>\n",
       "      <td>XCSP19/hcp/graph255.xml</td>\n",
       "      <td>cosoco 2</td>\n",
       "      <td>0.045418</td>\n",
       "      <td>ERR UNSAT</td>\n",
       "      <td>0.045142</td>\n",
       "      <td>0</td>\n",
       "      <td>cosoco</td>\n",
       "      <td>2</td>\n",
       "      <td>1200.0</td>\n",
       "      <td>True</td>\n",
       "      <td>False</td>\n",
       "      <td>False</td>\n",
       "      <td>False</td>\n",
       "      <td>True</td>\n",
       "      <td>hcp</td>\n",
       "    </tr>\n",
       "    <tr>\n",
       "      <th>7798</th>\n",
       "      <td>XCSP19/hcp/graph48.xml</td>\n",
       "      <td>choco-solver 2019-09-16</td>\n",
       "      <td>2306.850000</td>\n",
       "      <td>ERR WRONGCERT</td>\n",
       "      <td>583.697000</td>\n",
       "      <td>15530540</td>\n",
       "      <td>choco-solver</td>\n",
       "      <td>2019-09-16</td>\n",
       "      <td>1200.0</td>\n",
       "      <td>True</td>\n",
       "      <td>False</td>\n",
       "      <td>False</td>\n",
       "      <td>False</td>\n",
       "      <td>True</td>\n",
       "      <td>hcp</td>\n",
       "    </tr>\n",
       "  </tbody>\n",
       "</table>\n",
       "</div>"
      ],
      "text/plain": [
       "                        input          experiment_ware     cpu_time  \\\n",
       "7773  XCSP19/hcp/graph255.xml                 cosoco 2     0.045418   \n",
       "7798   XCSP19/hcp/graph48.xml  choco-solver 2019-09-16  2306.850000   \n",
       "\n",
       "     Checked answer  Wallclock time    Memory   Solver name Solver version  \\\n",
       "7773      ERR UNSAT        0.045142         0        cosoco              2   \n",
       "7798  ERR WRONGCERT      583.697000  15530540  choco-solver     2019-09-16   \n",
       "\n",
       "      timeout  error  success  missing  consistent_xp  consistent_input family  \n",
       "7773   1200.0   True    False    False          False              True    hcp  \n",
       "7798   1200.0   True    False    False          False              True    hcp  "
      ]
     },
     "execution_count": 16,
     "metadata": {},
     "output_type": "execute_result"
    }
   ],
   "source": [
    "analysis_clean.error_table()"
   ]
  },
  {
   "cell_type": "code",
   "execution_count": 17,
   "metadata": {},
   "outputs": [
    {
     "data": {
      "text/html": [
       "<div>\n",
       "<style scoped>\n",
       "    .dataframe tbody tr th:only-of-type {\n",
       "        vertical-align: middle;\n",
       "    }\n",
       "\n",
       "    .dataframe tbody tr th {\n",
       "        vertical-align: top;\n",
       "    }\n",
       "\n",
       "    .dataframe thead th {\n",
       "        text-align: right;\n",
       "    }\n",
       "</style>\n",
       "<table border=\"1\" class=\"dataframe\">\n",
       "  <thead>\n",
       "    <tr style=\"text-align: right;\">\n",
       "      <th></th>\n",
       "      <th>analysis</th>\n",
       "    </tr>\n",
       "  </thead>\n",
       "  <tbody>\n",
       "    <tr>\n",
       "      <th>n_experiment_wares</th>\n",
       "      <td>12</td>\n",
       "    </tr>\n",
       "    <tr>\n",
       "      <th>n_inputs</th>\n",
       "      <td>300</td>\n",
       "    </tr>\n",
       "    <tr>\n",
       "      <th>n_experiments</th>\n",
       "      <td>3600</td>\n",
       "    </tr>\n",
       "    <tr>\n",
       "      <th>n_missing_xp</th>\n",
       "      <td>0</td>\n",
       "    </tr>\n",
       "    <tr>\n",
       "      <th>n_inconsistent_xp</th>\n",
       "      <td>2</td>\n",
       "    </tr>\n",
       "    <tr>\n",
       "      <th>n_inconsistent_xp_due_to_input</th>\n",
       "      <td>0</td>\n",
       "    </tr>\n",
       "    <tr>\n",
       "      <th>more_info_about_variables</th>\n",
       "      <td>&lt;analysis&gt;.data_frame.describe(include='all')</td>\n",
       "    </tr>\n",
       "  </tbody>\n",
       "</table>\n",
       "</div>"
      ],
      "text/plain": [
       "                                                                     analysis\n",
       "n_experiment_wares                                                         12\n",
       "n_inputs                                                                  300\n",
       "n_experiments                                                            3600\n",
       "n_missing_xp                                                                0\n",
       "n_inconsistent_xp                                                           2\n",
       "n_inconsistent_xp_due_to_input                                              0\n",
       "more_info_about_variables       <analysis>.data_frame.describe(include='all')"
      ]
     },
     "execution_count": 17,
     "metadata": {},
     "output_type": "execute_result"
    }
   ],
   "source": [
    "analysis_clean.description_table()"
   ]
  },
  {
   "cell_type": "code",
   "execution_count": 18,
   "metadata": {},
   "outputs": [
    {
     "data": {
      "text/html": [
       "<div>\n",
       "<style scoped>\n",
       "    .dataframe tbody tr th:only-of-type {\n",
       "        vertical-align: middle;\n",
       "    }\n",
       "\n",
       "    .dataframe tbody tr th {\n",
       "        vertical-align: top;\n",
       "    }\n",
       "\n",
       "    .dataframe thead th {\n",
       "        text-align: right;\n",
       "    }\n",
       "</style>\n",
       "<table border=\"1\" class=\"dataframe\">\n",
       "  <thead>\n",
       "    <tr style=\"text-align: right;\">\n",
       "      <th></th>\n",
       "      <th>analysis</th>\n",
       "    </tr>\n",
       "  </thead>\n",
       "  <tbody>\n",
       "    <tr>\n",
       "      <th>n_experiment_wares</th>\n",
       "      <td>12</td>\n",
       "    </tr>\n",
       "    <tr>\n",
       "      <th>n_inputs</th>\n",
       "      <td>300</td>\n",
       "    </tr>\n",
       "    <tr>\n",
       "      <th>n_experiments</th>\n",
       "      <td>3600</td>\n",
       "    </tr>\n",
       "    <tr>\n",
       "      <th>n_missing_xp</th>\n",
       "      <td>0</td>\n",
       "    </tr>\n",
       "    <tr>\n",
       "      <th>n_inconsistent_xp</th>\n",
       "      <td>2</td>\n",
       "    </tr>\n",
       "    <tr>\n",
       "      <th>n_inconsistent_xp_due_to_input</th>\n",
       "      <td>0</td>\n",
       "    </tr>\n",
       "    <tr>\n",
       "      <th>more_info_about_variables</th>\n",
       "      <td>&lt;analysis&gt;.data_frame.describe(include='all')</td>\n",
       "    </tr>\n",
       "  </tbody>\n",
       "</table>\n",
       "</div>"
      ],
      "text/plain": [
       "                                                                     analysis\n",
       "n_experiment_wares                                                         12\n",
       "n_inputs                                                                  300\n",
       "n_experiments                                                            3600\n",
       "n_missing_xp                                                                0\n",
       "n_inconsistent_xp                                                           2\n",
       "n_inconsistent_xp_due_to_input                                              0\n",
       "more_info_about_variables       <analysis>.data_frame.describe(include='all')"
      ]
     },
     "execution_count": 18,
     "metadata": {},
     "output_type": "execute_result"
    }
   ],
   "source": [
    "analysis_clean.export('analysis.csv')\n",
    "imported_analysis = import_analysis_from_file('analysis.csv')\n",
    "imported_analysis.description_table()"
   ]
  }
 ],
 "metadata": {
  "kernelspec": {
   "display_name": "Python 3",
   "language": "python",
   "name": "python3"
  },
  "language_info": {
   "codemirror_mode": {
    "name": "ipython",
    "version": 3
   },
   "file_extension": ".py",
   "mimetype": "text/x-python",
   "name": "python",
   "nbconvert_exporter": "python",
   "pygments_lexer": "ipython3",
   "version": "3.8.5"
  },
  "latex_envs": {
   "LaTeX_envs_menu_present": true,
   "autoclose": false,
   "autocomplete": true,
   "bibliofile": "biblio.bib",
   "cite_by": "apalike",
   "current_citInitial": 1,
   "eqLabelWithNumbers": true,
   "eqNumInitial": 1,
   "hotkeys": {
    "equation": "Ctrl-E",
    "itemize": "Ctrl-I"
   },
   "labels_anchors": false,
   "latex_user_defs": false,
   "report_style_numbering": false,
   "user_envs_cfg": false
  }
 },
 "nbformat": 4,
 "nbformat_minor": 4
}
