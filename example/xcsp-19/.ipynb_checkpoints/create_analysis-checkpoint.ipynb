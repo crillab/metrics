{
 "cells": [
  {
   "cell_type": "markdown",
   "metadata": {},
   "source": [
    "# Analysis of the XCSP'19 competition (creation and manipulations)\n",
    "\n",
    "## `Metrics-wallet` is imported"
   ]
  },
  {
   "cell_type": "code",
   "execution_count": 1,
   "metadata": {
    "ExecuteTime": {
     "end_time": "2021-04-17T12:13:29.555047Z",
     "start_time": "2021-04-17T12:13:29.139336Z"
    }
   },
   "outputs": [
    {
     "ename": "ModuleNotFoundError",
     "evalue": "No module named 'pandas'",
     "output_type": "error",
     "traceback": [
      "\u001b[0;31m---------------------------------------------------------------------------\u001b[0m",
      "\u001b[0;31mModuleNotFoundError\u001b[0m                       Traceback (most recent call last)",
      "\u001b[0;32m<ipython-input-1-1b11c58e54e4>\u001b[0m in \u001b[0;36m<module>\u001b[0;34m\u001b[0m\n\u001b[0;32m----> 1\u001b[0;31m \u001b[0;32mfrom\u001b[0m \u001b[0mmetrics\u001b[0m\u001b[0;34m.\u001b[0m\u001b[0mwallet\u001b[0m \u001b[0;32mimport\u001b[0m \u001b[0;34m*\u001b[0m\u001b[0;34m\u001b[0m\u001b[0;34m\u001b[0m\u001b[0m\n\u001b[0m",
      "\u001b[0;32m~/Travail/Doctorat/Tools/metrics/metrics/wallet/__init__.py\u001b[0m in \u001b[0;36m<module>\u001b[0;34m\u001b[0m\n\u001b[1;32m     23\u001b[0m \u001b[0;32mimport\u001b[0m \u001b[0mpickle\u001b[0m\u001b[0;34m\u001b[0m\u001b[0;34m\u001b[0m\u001b[0m\n\u001b[1;32m     24\u001b[0m \u001b[0;34m\u001b[0m\u001b[0m\n\u001b[0;32m---> 25\u001b[0;31m \u001b[0;32mfrom\u001b[0m \u001b[0mmetrics\u001b[0m\u001b[0;34m.\u001b[0m\u001b[0mwallet\u001b[0m\u001b[0;34m.\u001b[0m\u001b[0manalysis\u001b[0m \u001b[0;32mimport\u001b[0m \u001b[0mAnalysis\u001b[0m\u001b[0;34m,\u001b[0m \u001b[0mfind_best_cpu_time_input\u001b[0m\u001b[0;34m\u001b[0m\u001b[0;34m\u001b[0m\u001b[0m\n\u001b[0m\u001b[1;32m     26\u001b[0m \u001b[0;32mfrom\u001b[0m \u001b[0mmetrics\u001b[0m\u001b[0;34m.\u001b[0m\u001b[0mcore\u001b[0m\u001b[0;34m.\u001b[0m\u001b[0mconstants\u001b[0m \u001b[0;32mimport\u001b[0m \u001b[0;34m*\u001b[0m\u001b[0;34m\u001b[0m\u001b[0;34m\u001b[0m\u001b[0m\n\u001b[1;32m     27\u001b[0m \u001b[0;34m\u001b[0m\u001b[0m\n",
      "\u001b[0;32m~/Travail/Doctorat/Tools/metrics/metrics/wallet/analysis.py\u001b[0m in \u001b[0;36m<module>\u001b[0;34m\u001b[0m\n\u001b[1;32m     37\u001b[0m \u001b[0mwarnings\u001b[0m\u001b[0;34m.\u001b[0m\u001b[0mformatwarning\u001b[0m \u001b[0;34m=\u001b[0m \u001b[0;32mlambda\u001b[0m \u001b[0mmsg\u001b[0m\u001b[0;34m,\u001b[0m \u001b[0;34m*\u001b[0m\u001b[0margs\u001b[0m\u001b[0;34m,\u001b[0m \u001b[0;34m**\u001b[0m\u001b[0mkwargs\u001b[0m\u001b[0;34m:\u001b[0m \u001b[0mstr\u001b[0m\u001b[0;34m(\u001b[0m\u001b[0mmsg\u001b[0m\u001b[0;34m)\u001b[0m \u001b[0;34m+\u001b[0m \u001b[0;34m'\\n'\u001b[0m\u001b[0;34m\u001b[0m\u001b[0;34m\u001b[0m\u001b[0m\n\u001b[1;32m     38\u001b[0m \u001b[0;34m\u001b[0m\u001b[0m\n\u001b[0;32m---> 39\u001b[0;31m \u001b[0;32mfrom\u001b[0m \u001b[0mpandas\u001b[0m \u001b[0;32mimport\u001b[0m \u001b[0mDataFrame\u001b[0m\u001b[0;34m\u001b[0m\u001b[0;34m\u001b[0m\u001b[0m\n\u001b[0m\u001b[1;32m     40\u001b[0m \u001b[0;32mfrom\u001b[0m \u001b[0mitertools\u001b[0m \u001b[0;32mimport\u001b[0m \u001b[0mproduct\u001b[0m\u001b[0;34m\u001b[0m\u001b[0;34m\u001b[0m\u001b[0m\n\u001b[1;32m     41\u001b[0m \u001b[0;32mimport\u001b[0m \u001b[0mpandas\u001b[0m \u001b[0;32mas\u001b[0m \u001b[0mpd\u001b[0m\u001b[0;34m\u001b[0m\u001b[0;34m\u001b[0m\u001b[0m\n",
      "\u001b[0;31mModuleNotFoundError\u001b[0m: No module named 'pandas'"
     ]
    }
   ],
   "source": [
    "from metrics.wallet import *"
   ]
  },
  {
   "cell_type": "markdown",
   "metadata": {},
   "source": [
    "## Analysis is created with consistency checkings"
   ]
  },
  {
   "cell_type": "code",
   "execution_count": 2,
   "metadata": {},
   "outputs": [
    {
     "name": "stderr",
     "output_type": "stream",
     "text": [
      "2100 experiments are missing and have been added as unsuccessful.\n",
      "31 experiments are inconsistent and are declared as unsuccessful.\n"
     ]
    }
   ],
   "source": [
    "inconsistent_returns = {\n",
    "    'ERR WRONGCERT', 'ERR UNSAT'\n",
    "}\n",
    "\n",
    "successful_returns = {'SAT', 'UNSAT'}\n",
    "\n",
    "is_consistent_by_xp=(lambda x: not x['Checked answer'] in inconsistent_returns)\n",
    "is_consistent_by_input=(lambda df: len(set(df['Checked answer'].unique()) & successful_returns) < 2)\n",
    "is_success=(lambda x: x['Checked answer'] in successful_returns)\n",
    "\n",
    "analysis = Analysis(\n",
    "    input_file='config/metrics_scalpel.yml',\n",
    "    is_consistent_by_xp=is_consistent_by_xp,\n",
    "    is_consistent_by_input=is_consistent_by_input,\n",
    "    is_success=is_success\n",
    ")"
   ]
  },
  {
   "cell_type": "markdown",
   "metadata": {},
   "source": [
    "## Parallel experiment-wares are removed\n",
    "\n",
    "In this analysis, we are only considering sequential experiment-wares."
   ]
  },
  {
   "cell_type": "code",
   "execution_count": 3,
   "metadata": {},
   "outputs": [],
   "source": [
    "analysis = analysis.filter_analysis(lambda x: 'parallel' not in x['experiment_ware'])\\\n",
    "    .filter_analysis(lambda x: 'Many' not in x['experiment_ware'])"
   ]
  },
  {
   "cell_type": "markdown",
   "metadata": {},
   "source": [
    "## Duplicated experiment-wares are removed"
   ]
  },
  {
   "cell_type": "code",
   "execution_count": 4,
   "metadata": {},
   "outputs": [],
   "source": [
    "analysis = analysis.remove_experiment_wares({\n",
    "    'Concrete 3.12.2', \n",
    "    'cosoco 2.0'\n",
    "})"
   ]
  },
  {
   "cell_type": "markdown",
   "metadata": {},
   "source": [
    "## Only CSP instances"
   ]
  },
  {
   "cell_type": "code",
   "execution_count": 5,
   "metadata": {},
   "outputs": [],
   "source": [
    "analysis = analysis.filter_analysis(lambda x: 'CSP' == x['Category'])"
   ]
  },
  {
   "cell_type": "markdown",
   "metadata": {},
   "source": [
    "## The error table\n",
    "\n",
    "Only two instances are inconsistent due to their `Checked answer` parameter and are considered unsuccessful by the analysis."
   ]
  },
  {
   "cell_type": "code",
   "execution_count": 6,
   "metadata": {},
   "outputs": [
    {
     "data": {
      "text/html": [
       "<div>\n",
       "<style scoped>\n",
       "    .dataframe tbody tr th:only-of-type {\n",
       "        vertical-align: middle;\n",
       "    }\n",
       "\n",
       "    .dataframe tbody tr th {\n",
       "        vertical-align: top;\n",
       "    }\n",
       "\n",
       "    .dataframe thead th {\n",
       "        text-align: right;\n",
       "    }\n",
       "</style>\n",
       "<table border=\"1\" class=\"dataframe\">\n",
       "  <thead>\n",
       "    <tr style=\"text-align: right;\">\n",
       "      <th></th>\n",
       "      <th>input</th>\n",
       "      <th>experiment_ware</th>\n",
       "      <th>cpu_time</th>\n",
       "      <th>Category</th>\n",
       "      <th>Checked answer</th>\n",
       "      <th>Objective function</th>\n",
       "      <th>Wallclock time</th>\n",
       "      <th>Memory</th>\n",
       "      <th>Solver name</th>\n",
       "      <th>Solver version</th>\n",
       "      <th>timeout</th>\n",
       "      <th>error</th>\n",
       "      <th>success</th>\n",
       "      <th>missing</th>\n",
       "      <th>consistent_xp</th>\n",
       "      <th>consistent_input</th>\n",
       "    </tr>\n",
       "  </thead>\n",
       "  <tbody>\n",
       "    <tr>\n",
       "      <th>13473</th>\n",
       "      <td>XCSP19/hcp/graph255.xml</td>\n",
       "      <td>cosoco 2</td>\n",
       "      <td>0.045418</td>\n",
       "      <td>CSP</td>\n",
       "      <td>ERR UNSAT</td>\n",
       "      <td></td>\n",
       "      <td>0.045142</td>\n",
       "      <td>0.0</td>\n",
       "      <td>cosoco</td>\n",
       "      <td>2</td>\n",
       "      <td>2400.0</td>\n",
       "      <td>True</td>\n",
       "      <td>False</td>\n",
       "      <td>False</td>\n",
       "      <td>False</td>\n",
       "      <td>True</td>\n",
       "    </tr>\n",
       "    <tr>\n",
       "      <th>13498</th>\n",
       "      <td>XCSP19/hcp/graph48.xml</td>\n",
       "      <td>choco-solver 2019-09-16</td>\n",
       "      <td>2306.850000</td>\n",
       "      <td>CSP</td>\n",
       "      <td>ERR WRONGCERT</td>\n",
       "      <td></td>\n",
       "      <td>583.697000</td>\n",
       "      <td>15530540.0</td>\n",
       "      <td>choco-solver</td>\n",
       "      <td>2019-09-16</td>\n",
       "      <td>2400.0</td>\n",
       "      <td>True</td>\n",
       "      <td>False</td>\n",
       "      <td>False</td>\n",
       "      <td>False</td>\n",
       "      <td>True</td>\n",
       "    </tr>\n",
       "  </tbody>\n",
       "</table>\n",
       "</div>"
      ],
      "text/plain": [
       "                         input          experiment_ware     cpu_time Category  \\\n",
       "13473  XCSP19/hcp/graph255.xml                 cosoco 2     0.045418      CSP   \n",
       "13498   XCSP19/hcp/graph48.xml  choco-solver 2019-09-16  2306.850000      CSP   \n",
       "\n",
       "      Checked answer Objective function  Wallclock time      Memory  \\\n",
       "13473      ERR UNSAT                           0.045142         0.0   \n",
       "13498  ERR WRONGCERT                         583.697000  15530540.0   \n",
       "\n",
       "        Solver name Solver version  timeout  error  success  missing  \\\n",
       "13473        cosoco              2   2400.0   True    False    False   \n",
       "13498  choco-solver     2019-09-16   2400.0   True    False    False   \n",
       "\n",
       "       consistent_xp  consistent_input  \n",
       "13473          False              True  \n",
       "13498          False              True  "
      ]
     },
     "execution_count": 6,
     "metadata": {},
     "output_type": "execute_result"
    }
   ],
   "source": [
    "analysis.error_table()"
   ]
  },
  {
   "cell_type": "markdown",
   "metadata": {},
   "source": [
    "## A new column: `family`"
   ]
  },
  {
   "cell_type": "code",
   "execution_count": 7,
   "metadata": {},
   "outputs": [],
   "source": [
    "import re\n",
    "family_re = re.compile(r'^XCSP\\d\\d/(.*?)/')\n",
    "\n",
    "analysis = analysis.add_variable(\n",
    "    new_var='family', \n",
    "    function=lambda x: family_re.match(x['input']).group(1)\n",
    ")"
   ]
  },
  {
   "cell_type": "markdown",
   "metadata": {},
   "source": [
    "## Unnecessary variables"
   ]
  },
  {
   "cell_type": "code",
   "execution_count": 8,
   "metadata": {},
   "outputs": [],
   "source": [
    "analysis = analysis.remove_variables(\n",
    "    vars=['Category', 'Objective function']\n",
    ")"
   ]
  },
  {
   "cell_type": "markdown",
   "metadata": {},
   "source": [
    "## The VBS is added"
   ]
  },
  {
   "cell_type": "code",
   "execution_count": 9,
   "metadata": {},
   "outputs": [],
   "source": [
    "analysis = analysis.add_virtual_experiment_ware(\n",
    "    function=find_best_cpu_time_input, \n",
    "    xp_ware_set=None, \n",
    "    name='VBS'\n",
    ")"
   ]
  },
  {
   "cell_type": "markdown",
   "metadata": {},
   "source": [
    "## The analysis is exported!"
   ]
  },
  {
   "cell_type": "code",
   "execution_count": 10,
   "metadata": {},
   "outputs": [],
   "source": [
    "analysis.export('analysis.csv')"
   ]
  }
 ],
 "metadata": {
  "kernelspec": {
   "display_name": "Python 3",
   "language": "python",
   "name": "python3"
  },
  "language_info": {
   "codemirror_mode": {
    "name": "ipython",
    "version": 3
   },
   "file_extension": ".py",
   "mimetype": "text/x-python",
   "name": "python",
   "nbconvert_exporter": "python",
   "pygments_lexer": "ipython3",
   "version": "3.8.6"
  },
  "latex_envs": {
   "LaTeX_envs_menu_present": true,
   "autoclose": false,
   "autocomplete": true,
   "bibliofile": "biblio.bib",
   "cite_by": "apalike",
   "current_citInitial": 1,
   "eqLabelWithNumbers": true,
   "eqNumInitial": 1,
   "hotkeys": {
    "equation": "Ctrl-E",
    "itemize": "Ctrl-I"
   },
   "labels_anchors": false,
   "latex_user_defs": false,
   "report_style_numbering": false,
   "user_envs_cfg": false
  },
  "toc": {
   "base_numbering": 1,
   "nav_menu": {},
   "number_sections": true,
   "sideBar": true,
   "skip_h1_title": false,
   "title_cell": "Table of Contents",
   "title_sidebar": "Contents",
   "toc_cell": false,
   "toc_position": {},
   "toc_section_display": true,
   "toc_window_display": false
  }
 },
 "nbformat": 4,
 "nbformat_minor": 4
}
