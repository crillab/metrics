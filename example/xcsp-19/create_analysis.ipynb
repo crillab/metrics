{
 "cells": [
  {
   "cell_type": "markdown",
   "metadata": {},
   "source": [
    "# Analysis of the XCSP'19 competition (creation and manipulations)\n",
    "\n",
    "## `Metrics-wallet` is imported"
   ]
  },
  {
   "cell_type": "code",
   "execution_count": 1,
   "metadata": {
    "ExecuteTime": {
     "end_time": "2021-04-17T12:20:04.592031Z",
     "start_time": "2021-04-17T12:20:03.483382Z"
    }
   },
   "outputs": [],
   "source": [
    "from metrics.wallet import *"
   ]
  },
  {
   "cell_type": "markdown",
   "metadata": {},
   "source": [
    "## Analysis is created with consistency checkings"
   ]
  },
  {
   "cell_type": "code",
   "execution_count": 2,
   "metadata": {
    "ExecuteTime": {
     "end_time": "2021-04-17T12:20:09.141678Z",
     "start_time": "2021-04-17T12:20:07.758443Z"
    }
   },
   "outputs": [
    {
     "name": "stderr",
     "output_type": "stream",
     "text": [
      "2100 experiments are missing and have been added as unsuccessful.\n",
      "31 experiments are inconsistent and are declared as unsuccessful.\n"
     ]
    }
   ],
   "source": [
    "inconsistent_returns = {\n",
    "    'ERR WRONGCERT', 'ERR UNSAT'\n",
    "}\n",
    "\n",
    "successful_returns = {'SAT', 'UNSAT'}\n",
    "\n",
    "is_consistent_by_xp = (lambda x: not x['Checked answer'] in inconsistent_returns)\n",
    "is_consistent_by_input = (lambda df: len(set(df['Checked answer'].unique()) & successful_returns) < 2)\n",
    "is_success = (lambda x: x['Checked answer'] in successful_returns)\n",
    "\n",
    "analysis = Analysis(input_file='config/metrics_scalpel.yml')\n",
    "\n",
    "analysis.check_success(is_success)\n",
    "analysis.check_input_consistency(is_consistent_by_input)\n",
    "analysis.check_xp_consistency(is_consistent_by_xp)"
   ]
  },
  {
   "cell_type": "markdown",
   "metadata": {},
   "source": [
    "## Parallel experiment-wares are removed\n",
    "\n",
    "In this analysis, we are only considering sequential experiment-wares."
   ]
  },
  {
   "cell_type": "code",
   "execution_count": 3,
   "metadata": {
    "ExecuteTime": {
     "end_time": "2021-04-17T12:20:26.503616Z",
     "start_time": "2021-04-17T12:20:26.322226Z"
    }
   },
   "outputs": [],
   "source": [
    "analysis = analysis.filter_analysis(lambda x: 'parallel' not in x['experiment_ware'])\\\n",
    "    .filter_analysis(lambda x: 'Many' not in x['experiment_ware'])"
   ]
  },
  {
   "cell_type": "markdown",
   "metadata": {},
   "source": [
    "## Duplicated experiment-wares are removed"
   ]
  },
  {
   "cell_type": "code",
   "execution_count": 4,
   "metadata": {
    "ExecuteTime": {
     "end_time": "2021-04-17T12:20:29.995454Z",
     "start_time": "2021-04-17T12:20:29.929981Z"
    }
   },
   "outputs": [],
   "source": [
    "analysis = analysis.remove_experiment_wares({\n",
    "    'Concrete 3.12.2', \n",
    "    'cosoco 2.0'\n",
    "})"
   ]
  },
  {
   "cell_type": "markdown",
   "metadata": {},
   "source": [
    "## Only CSP instances"
   ]
  },
  {
   "cell_type": "code",
   "execution_count": 5,
   "metadata": {
    "ExecuteTime": {
     "end_time": "2021-04-17T12:20:32.796377Z",
     "start_time": "2021-04-17T12:20:32.654791Z"
    }
   },
   "outputs": [],
   "source": [
    "analysis = analysis.filter_analysis(lambda x: 'CSP' == x['Category'])"
   ]
  },
  {
   "cell_type": "markdown",
   "metadata": {},
   "source": [
    "## The error table\n",
    "\n",
    "Only two instances are inconsistent due to their `Checked answer` parameter and are considered unsuccessful by the analysis."
   ]
  },
  {
   "cell_type": "code",
   "execution_count": 6,
   "metadata": {
    "ExecuteTime": {
     "end_time": "2021-04-17T12:20:35.091258Z",
     "start_time": "2021-04-17T12:20:35.075765Z"
    }
   },
   "outputs": [
    {
     "data": {
      "text/html": [
       "<div>\n",
       "<style scoped>\n",
       "    .dataframe tbody tr th:only-of-type {\n",
       "        vertical-align: middle;\n",
       "    }\n",
       "\n",
       "    .dataframe tbody tr th {\n",
       "        vertical-align: top;\n",
       "    }\n",
       "\n",
       "    .dataframe thead th {\n",
       "        text-align: right;\n",
       "    }\n",
       "</style>\n",
       "<table border=\"1\" class=\"dataframe\">\n",
       "  <thead>\n",
       "    <tr style=\"text-align: right;\">\n",
       "      <th></th>\n",
       "      <th>input</th>\n",
       "      <th>experiment_ware</th>\n",
       "      <th>cpu_time</th>\n",
       "      <th>Category</th>\n",
       "      <th>Checked answer</th>\n",
       "      <th>Objective function</th>\n",
       "      <th>Wallclock time</th>\n",
       "      <th>Memory</th>\n",
       "      <th>Solver name</th>\n",
       "      <th>Solver version</th>\n",
       "      <th>timeout</th>\n",
       "      <th>success</th>\n",
       "      <th>user_success</th>\n",
       "      <th>missing</th>\n",
       "      <th>consistent_xp</th>\n",
       "      <th>consistent_input</th>\n",
       "      <th>error</th>\n",
       "    </tr>\n",
       "  </thead>\n",
       "  <tbody>\n",
       "    <tr>\n",
       "      <th>13473</th>\n",
       "      <td>XCSP19/hcp/graph255.xml</td>\n",
       "      <td>cosoco 2</td>\n",
       "      <td>0.045418</td>\n",
       "      <td>CSP</td>\n",
       "      <td>ERR UNSAT</td>\n",
       "      <td></td>\n",
       "      <td>0.045142</td>\n",
       "      <td>0.0</td>\n",
       "      <td>cosoco</td>\n",
       "      <td>2</td>\n",
       "      <td>2400.0</td>\n",
       "      <td>False</td>\n",
       "      <td>False</td>\n",
       "      <td>False</td>\n",
       "      <td>False</td>\n",
       "      <td>True</td>\n",
       "      <td>True</td>\n",
       "    </tr>\n",
       "    <tr>\n",
       "      <th>13498</th>\n",
       "      <td>XCSP19/hcp/graph48.xml</td>\n",
       "      <td>choco-solver 2019-09-16</td>\n",
       "      <td>2306.850000</td>\n",
       "      <td>CSP</td>\n",
       "      <td>ERR WRONGCERT</td>\n",
       "      <td></td>\n",
       "      <td>583.697000</td>\n",
       "      <td>15530540.0</td>\n",
       "      <td>choco-solver</td>\n",
       "      <td>2019-09-16</td>\n",
       "      <td>2400.0</td>\n",
       "      <td>False</td>\n",
       "      <td>False</td>\n",
       "      <td>False</td>\n",
       "      <td>False</td>\n",
       "      <td>True</td>\n",
       "      <td>True</td>\n",
       "    </tr>\n",
       "  </tbody>\n",
       "</table>\n",
       "</div>"
      ],
      "text/plain": [
       "                         input          experiment_ware     cpu_time Category  \\\n",
       "13473  XCSP19/hcp/graph255.xml                 cosoco 2     0.045418      CSP   \n",
       "13498   XCSP19/hcp/graph48.xml  choco-solver 2019-09-16  2306.850000      CSP   \n",
       "\n",
       "      Checked answer Objective function  Wallclock time      Memory  \\\n",
       "13473      ERR UNSAT                           0.045142         0.0   \n",
       "13498  ERR WRONGCERT                         583.697000  15530540.0   \n",
       "\n",
       "        Solver name Solver version  timeout  success  user_success  missing  \\\n",
       "13473        cosoco              2   2400.0    False         False    False   \n",
       "13498  choco-solver     2019-09-16   2400.0    False         False    False   \n",
       "\n",
       "       consistent_xp  consistent_input  error  \n",
       "13473          False              True   True  \n",
       "13498          False              True   True  "
      ]
     },
     "execution_count": 6,
     "metadata": {},
     "output_type": "execute_result"
    }
   ],
   "source": [
    "analysis.error_table()"
   ]
  },
  {
   "cell_type": "markdown",
   "metadata": {},
   "source": [
    "## A new column: `family`"
   ]
  },
  {
   "cell_type": "code",
   "execution_count": 7,
   "metadata": {
    "ExecuteTime": {
     "end_time": "2021-04-17T12:20:40.987470Z",
     "start_time": "2021-04-17T12:20:40.956333Z"
    }
   },
   "outputs": [],
   "source": [
    "import re\n",
    "family_re = re.compile(r'^XCSP\\d\\d/(.*?)/')\n",
    "\n",
    "analysis = analysis.add_variable(\n",
    "    new_var='family', \n",
    "    function=lambda x: family_re.match(x['input']).group(1)\n",
    ")"
   ]
  },
  {
   "cell_type": "markdown",
   "metadata": {},
   "source": [
    "## Unnecessary variables"
   ]
  },
  {
   "cell_type": "code",
   "execution_count": 8,
   "metadata": {
    "ExecuteTime": {
     "end_time": "2021-04-17T12:20:43.070815Z",
     "start_time": "2021-04-17T12:20:43.051443Z"
    }
   },
   "outputs": [],
   "source": [
    "analysis = analysis.remove_variables(\n",
    "    vars=['Category', 'Objective function']\n",
    ")"
   ]
  },
  {
   "cell_type": "markdown",
   "metadata": {},
   "source": [
    "## The VBS is added"
   ]
  },
  {
   "cell_type": "code",
   "execution_count": 9,
   "metadata": {
    "ExecuteTime": {
     "end_time": "2021-04-17T12:20:45.901561Z",
     "start_time": "2021-04-17T12:20:45.534324Z"
    }
   },
   "outputs": [],
   "source": [
    "analysis = analysis.add_virtual_experiment_ware(\n",
    "    function=find_best_cpu_time_input, \n",
    "    xp_ware_set=None, \n",
    "    name='VBS'\n",
    ")"
   ]
  },
  {
   "cell_type": "markdown",
   "metadata": {},
   "source": [
    "## The analysis is exported!"
   ]
  },
  {
   "cell_type": "code",
   "execution_count": 10,
   "metadata": {
    "ExecuteTime": {
     "end_time": "2021-04-17T12:20:47.904429Z",
     "start_time": "2021-04-17T12:20:47.875307Z"
    }
   },
   "outputs": [],
   "source": [
    "analysis.export('analysis.csv')"
   ]
  },
  {
   "cell_type": "code",
   "execution_count": null,
   "metadata": {},
   "outputs": [],
   "source": []
  }
 ],
 "metadata": {
  "kernelspec": {
   "display_name": "Python 3",
   "language": "python",
   "name": "python3"
  },
  "language_info": {
   "codemirror_mode": {
    "name": "ipython",
    "version": 3
   },
   "file_extension": ".py",
   "mimetype": "text/x-python",
   "name": "python",
   "nbconvert_exporter": "python",
   "pygments_lexer": "ipython3",
   "version": "3.9.4"
  },
  "latex_envs": {
   "LaTeX_envs_menu_present": true,
   "autoclose": false,
   "autocomplete": true,
   "bibliofile": "biblio.bib",
   "cite_by": "apalike",
   "current_citInitial": 1,
   "eqLabelWithNumbers": true,
   "eqNumInitial": 1,
   "hotkeys": {
    "equation": "Ctrl-E",
    "itemize": "Ctrl-I"
   },
   "labels_anchors": false,
   "latex_user_defs": false,
   "report_style_numbering": false,
   "user_envs_cfg": false
  },
  "toc": {
   "base_numbering": 1,
   "nav_menu": {},
   "number_sections": true,
   "sideBar": true,
   "skip_h1_title": false,
   "title_cell": "Table of Contents",
   "title_sidebar": "Contents",
   "toc_cell": false,
   "toc_position": {},
   "toc_section_display": true,
   "toc_window_display": false
  }
 },
 "nbformat": 4,
 "nbformat_minor": 4
}
