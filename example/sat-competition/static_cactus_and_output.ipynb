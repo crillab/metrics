{
 "cells": [
  {
   "cell_type": "code",
   "execution_count": null,
   "metadata": {},
   "outputs": [],
   "source": [
    "from metrics.wallet.dataframe.builder import Analysis\n",
    "from metrics.wallet.figure.static_figure import CactusMPL, LINE_STYLES, DEFAULT_COLORS"
   ]
  },
  {
   "cell_type": "code",
   "execution_count": null,
   "metadata": {},
   "outputs": [],
   "source": [
    "# An optional function to precise if an experiment is a success or not\n",
    "def is_success(x):\n",
    "    success_status = {'complete'}\n",
    "    success_results = {'SAT-VERIFIED', 'UNSAT'}\n",
    "    success_verifier = {'--', 'UNSAT-VERIFIED'}\n",
    "\n",
    "    status = x['status'] in success_status\n",
    "    results = x['result'] in success_results\n",
    "    verifier = x['verifier result'] in success_verifier\n",
    "    \n",
    "    return status and results and verifier"
   ]
  },
  {
   "cell_type": "code",
   "execution_count": null,
   "metadata": {},
   "outputs": [],
   "source": [
    "# Build the Analysis\n",
    "my_analysis = Analysis(input_file='input/sat2019.yml', is_success=is_success)\n",
    "campaign_df = my_analysis.campaign_df"
   ]
  },
  {
   "cell_type": "code",
   "execution_count": null,
   "metadata": {
    "scrolled": false
   },
   "outputs": [],
   "source": [
    "cactus = CactusMPL(\n",
    "    campaign_df,\n",
    "    cactus_col='cpu_time', # column permitting to draw lines of the cactus\n",
    "    cumulated=False,       # cumulate or not the cactus_col value\n",
    "    show_marker=False,     # show a marker for each experiment\n",
    "    \n",
    "    output='output/cactus.svg', # output path or None\n",
    "    figsize=(15,10),            # size of the figure to output (inch)\n",
    "    \n",
    "    color_map=None,        # a map to force the color of each experimentware line\n",
    "    style_map=None,        # a map to force forces the line style of each experimentware line\n",
    "    xp_ware_name_map=None, # a map to rename experimentwares\n",
    "    \n",
    "    # font properties\n",
    "    font_name='Times New Roman',\n",
    "    font_size=11,\n",
    "    font_color='#000000',\n",
    "    latex_writing=False, # if True, permits to write in latex mode (make attention to some characters)\n",
    "    \n",
    "    logx=False, # log scale to x-axis\n",
    "    logy=False, # log scale to y-axis\n",
    "    \n",
    "    # set the limit of axis, or -1 to take the default value of matplotlib\n",
    "    x_min=-1, \n",
    "    x_max=-1,\n",
    "    y_min=-1,\n",
    "    y_max=-1,\n",
    "    \n",
    "    # matplotlib location of the legend\n",
    "    legend_location=\"upper center\",\n",
    "    bbox_to_anchor=(0.5, -0.06),\n",
    "    ncol_legend=3,\n",
    ")\n",
    "display(cactus.get_figure())"
   ]
  },
  {
   "cell_type": "code",
   "execution_count": null,
   "metadata": {
    "scrolled": false
   },
   "outputs": [],
   "source": [
    "subset = {\n",
    "    'CaDiCaL default',\n",
    "    'MapleLCMDistChronoBT-DL-v2.2 default',\n",
    "    'MapleLCMDistChronoBT-DL-v2.1 default',\n",
    "    'MapleLCMDiscChronoBT-DL-v3 default',\n",
    "    'cmsatv56-walksat-chronobt default',\n",
    "}\n",
    "\n",
    "xpware_map = {\n",
    "    'CaDiCaL default': r'$\\textrm{CaDiCaL}^\\textrm{default}$',\n",
    "    'MapleLCMDistChronoBT-DL-v2.2 default': r'$\\textrm{MapleLCMDistChronoBT-DL-v2.2}^\\textrm{default}$',\n",
    "    'MapleLCMDistChronoBT-DL-v2.1 default': r'$\\textrm{MapleLCMDistChronoBT-DL-v2.1}^\\textrm{default}$',\n",
    "    'MapleLCMDiscChronoBT-DL-v3 default': r'$\\textrm{MapleLCMDiscChronoBT-DL-v3}^\\textrm{default}$',\n",
    "    'cmsatv56-walksat-chronobt default': r'$\\textrm{cmsatv56-walksat-chronobt}^\\textrm{default}$',\n",
    "}\n",
    "\n",
    "xpware_color = {\n",
    "    'CaDiCaL default': DEFAULT_COLORS[0],\n",
    "    'MapleLCMDistChronoBT-DL-v2.2 default': DEFAULT_COLORS[1],\n",
    "    'MapleLCMDistChronoBT-DL-v2.1 default': DEFAULT_COLORS[1],\n",
    "    'MapleLCMDiscChronoBT-DL-v3 default': DEFAULT_COLORS[1],\n",
    "    'cmsatv56-walksat-chronobt default': DEFAULT_COLORS[2],\n",
    "}\n",
    "\n",
    "xpware_type = {\n",
    "    'CaDiCaL default': LINE_STYLES[0],\n",
    "    'MapleLCMDistChronoBT-DL-v2.2 default': LINE_STYLES[0],\n",
    "    'MapleLCMDistChronoBT-DL-v2.1 default': LINE_STYLES[1],\n",
    "    'MapleLCMDiscChronoBT-DL-v3 default': LINE_STYLES[2],\n",
    "    'cmsatv56-walksat-chronobt default': LINE_STYLES[0],\n",
    "}\n",
    "\n",
    "sub_campaign_df = campaign_df.sub_data_frame('experiment_ware', subset)\n",
    "\n",
    "cactus = CactusMPL(\n",
    "    sub_campaign_df,\n",
    "    cactus_col='cpu_time', # column permitting to draw lines of the cactus\n",
    "    cumulated=False,       # cumulate or not the cactus_col value\n",
    "    show_marker=False,     # show a marker for each experiment\n",
    "    \n",
    "    output='output/cactus_zoom.svg', # output path or None\n",
    "    figsize=(10,7),                  # size of the figure to output (inch)\n",
    "    \n",
    "    color_map=xpware_color,        # a map to force the color of each experimentware line\n",
    "    style_map=xpware_type,         # a map to force forces the line style of each experimentware line\n",
    "    xp_ware_name_map=xpware_map,   # a map to rename experimentwares\n",
    "    \n",
    "    # font properties\n",
    "    font_name='Times New Roman',\n",
    "    font_size=12,\n",
    "    font_color='#000000',\n",
    "    latex_writing=True, # if True, permits to write in latex mode (make attention to some characters)\n",
    "    \n",
    "    logx=False, # log scale to x-axis\n",
    "    logy=False, # log scale to y-axis\n",
    "    \n",
    "    # set the limit of axis, or -1 to take the default value of matplotlib\n",
    "    x_min=200,\n",
    "    x_max=-1,\n",
    "    y_min=-1,\n",
    "    y_max=-1,\n",
    "    \n",
    "    # matplotlib legend location\n",
    "    legend_location='best',\n",
    "    bbox_to_anchor=None,\n",
    "    ncol_legend=1,\n",
    ")\n",
    "display(cactus.get_figure())"
   ]
  }
 ],
 "metadata": {
  "kernelspec": {
   "display_name": "Python 3",
   "language": "python",
   "name": "python3"
  },
  "language_info": {
   "codemirror_mode": {
    "name": "ipython",
    "version": 3
   },
   "file_extension": ".py",
   "mimetype": "text/x-python",
   "name": "python",
   "nbconvert_exporter": "python",
   "pygments_lexer": "ipython3",
   "version": "3.7.3"
  }
 },
 "nbformat": 4,
 "nbformat_minor": 2
}
