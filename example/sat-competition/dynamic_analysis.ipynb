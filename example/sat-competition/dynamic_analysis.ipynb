{
 "cells": [
  {
   "cell_type": "code",
   "execution_count": null,
   "metadata": {},
   "outputs": [],
   "source": [
    "from metrics.wallet.dataframe.builder import Analysis\n",
    "from metrics.wallet.figure.dynamic_figure import CactusPlotly, BoxPlotly, ScatterPlotly"
   ]
  },
  {
   "cell_type": "code",
   "execution_count": null,
   "metadata": {},
   "outputs": [],
   "source": [
    "# An optional function to precise if an experiment is a success or not\n",
    "def is_success(x):\n",
    "    success_status   = {'complete'}\n",
    "    success_results  = {'SAT-VERIFIED', 'UNSAT'}\n",
    "    success_verifier = {'--', 'UNSAT-VERIFIED'}\n",
    "\n",
    "    status   = x['status'] in success_status\n",
    "    results  = x['result'] in success_results\n",
    "    verifier = x['verifier result'] in success_verifier\n",
    "    \n",
    "    return status and results and verifier"
   ]
  },
  {
   "cell_type": "code",
   "execution_count": null,
   "metadata": {},
   "outputs": [],
   "source": [
    "# Build the Analysis\n",
    "my_analysis = Analysis(input_file='input/sat2019.yml', is_success=is_success)\n",
    "campaign_df = my_analysis.campaign_df"
   ]
  },
  {
   "cell_type": "code",
   "execution_count": null,
   "metadata": {},
   "outputs": [],
   "source": [
    "cactus = CactusPlotly(campaign_df, show_marker=False)\n",
    "display(cactus.get_figure())"
   ]
  },
  {
   "cell_type": "code",
   "execution_count": null,
   "metadata": {
    "scrolled": false
   },
   "outputs": [],
   "source": [
    "subset = {\n",
    "    'CaDiCaL default',\n",
    "    'MapleLCMDistChronoBT-DL-v2.2 default',\n",
    "    'MapleLCMDistChronoBT-DL-v2.1 default',\n",
    "    'MapleLCMDiscChronoBT-DL-v3 default',\n",
    "    'cmsatv56-walksat-chronobt default',\n",
    "}\n",
    "campaign_df_best = campaign_df.sub_data_frame('experiment_ware', subset)\n",
    "\n",
    "box = BoxPlotly(campaign_df_best)\n",
    "box.get_figure()"
   ]
  },
  {
   "cell_type": "code",
   "execution_count": null,
   "metadata": {},
   "outputs": [],
   "source": [
    "scatter = ScatterPlotly(campaign_df, 'CaDiCaL default', 'MapleLCMDistChronoBT-DL-v2.2 default')\n",
    "scatter.get_figure() "
   ]
  }
 ],
 "metadata": {
  "kernelspec": {
   "display_name": "Python 3",
   "language": "python",
   "name": "python3"
  },
  "language_info": {
   "codemirror_mode": {
    "name": "ipython",
    "version": 3
   },
   "file_extension": ".py",
   "mimetype": "text/x-python",
   "name": "python",
   "nbconvert_exporter": "python",
   "pygments_lexer": "ipython3",
   "version": "3.7.3"
  }
 },
 "nbformat": 4,
 "nbformat_minor": 2
}
