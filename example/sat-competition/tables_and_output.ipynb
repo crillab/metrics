{
 "cells": [
  {
   "cell_type": "code",
   "execution_count": null,
   "metadata": {},
   "outputs": [],
   "source": [
    "from metrics.wallet.dataframe.builder import Analysis\n",
    "from metrics.wallet.figure.static_figure import StatTable, ContributionTable"
   ]
  },
  {
   "cell_type": "code",
   "execution_count": null,
   "metadata": {},
   "outputs": [],
   "source": [
    "# An optional function to precise if an experiment is a success or not\n",
    "def is_success(x):\n",
    "    success_status = {'complete'}\n",
    "    success_results = {'SAT-VERIFIED', 'UNSAT'}\n",
    "    success_verifier = {'--', 'UNSAT-VERIFIED'}\n",
    "\n",
    "    status = x['status'] in success_status\n",
    "    results = x['result'] in success_results\n",
    "    verifier = x['verifier result'] in success_verifier\n",
    "    \n",
    "    return status and results and verifier"
   ]
  },
  {
   "cell_type": "code",
   "execution_count": null,
   "metadata": {},
   "outputs": [],
   "source": [
    "# Build the Analysis\n",
    "my_analysis = Analysis(input_file='input/sat2019.yml', is_success=is_success)\n",
    "campaign_df = my_analysis.campaign_df"
   ]
  },
  {
   "cell_type": "code",
   "execution_count": null,
   "metadata": {
    "scrolled": false
   },
   "outputs": [],
   "source": [
    "stat = StatTable(\n",
    "    campaign_df,\n",
    "    output='output/stats_table.tex', # output path or None\n",
    "    \n",
    "    dollars_for_number=True, # 123456789 -> $123456789$\n",
    "    commas_for_number=True,  # 123456789 -> 123,456,789\n",
    "    \n",
    "    xp_ware_name_map=None, # a map to rename experimentwares\n",
    ")\n",
    "\n",
    "display(stat.get_figure())"
   ]
  },
  {
   "cell_type": "code",
   "execution_count": null,
   "metadata": {},
   "outputs": [],
   "source": [
    "vbs1 = {\n",
    "    'CaDiCaL default',\n",
    "    'MapleLCMDistChronoBT-DL-v2.2 default'\n",
    "}\n",
    "\n",
    "vbs2 = {\n",
    "    'CaDiCaL default',\n",
    "    'MapleLCMDiscChronoBT-DL-v3 default'\n",
    "}\n",
    "\n",
    "campaign_df_best_plus_vbs = campaign_df\\\n",
    "    .add_vbew(vbs1, 'cpu_time', vbew_name='vbs1')\\\n",
    "    .add_vbew(vbs2, 'cpu_time', vbew_name='vbs2')\n",
    "\n",
    "stat = StatTable(campaign_df_best_plus_vbs)\n",
    "display(stat.get_figure().head())"
   ]
  },
  {
   "cell_type": "code",
   "execution_count": null,
   "metadata": {},
   "outputs": [],
   "source": [
    "contribution = ContributionTable(\n",
    "    campaign_df,\n",
    "    output='output/contribution_table.tex', # output path or None\n",
    "    \n",
    "    deltas=[1, 10, 100], # minimum resolution cpu_time for the vbew\n",
    "    \n",
    "    dollars_for_number=True, # if True, 123456789 -> 123,456,789\n",
    "    commas_for_number=True,  # if True, 123456789 -> $123456789$\n",
    "    \n",
    "    xp_ware_name_map=None, # a map to rename experimentwares\n",
    ")\n",
    "\n",
    "display(contribution.get_figure())"
   ]
  }
 ],
 "metadata": {
  "kernelspec": {
   "display_name": "Python 3",
   "language": "python",
   "name": "python3"
  },
  "language_info": {
   "codemirror_mode": {
    "name": "ipython",
    "version": 3
   },
   "file_extension": ".py",
   "mimetype": "text/x-python",
   "name": "python",
   "nbconvert_exporter": "python",
   "pygments_lexer": "ipython3",
   "version": "3.7.3"
  }
 },
 "nbformat": 4,
 "nbformat_minor": 2
}
