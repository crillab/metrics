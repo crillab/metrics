{
 "cells": [
  {
   "cell_type": "code",
   "execution_count": null,
   "metadata": {},
   "outputs": [],
   "source": [
    "from metrics.wallet.dataframe.builder import Analysis\n",
    "from metrics.wallet.figure.static_figure import BoxMPL, LINE_STYLES, DEFAULT_COLORS"
   ]
  },
  {
   "cell_type": "code",
   "execution_count": null,
   "metadata": {},
   "outputs": [],
   "source": [
    "# An optional function to precise if an experiment is a success or not\n",
    "def is_success(x):\n",
    "    success_status = {'complete'}\n",
    "    success_results = {'SAT-VERIFIED', 'UNSAT'}\n",
    "    success_verifier = {'--', 'UNSAT-VERIFIED'}\n",
    "\n",
    "    status = x['status'] in success_status\n",
    "    results = x['result'] in success_results\n",
    "    verifier = x['verifier result'] in success_verifier\n",
    "    \n",
    "    return status and results and verifier"
   ]
  },
  {
   "cell_type": "code",
   "execution_count": null,
   "metadata": {},
   "outputs": [],
   "source": [
    "# Build the Analysis\n",
    "my_analysis = Analysis(input_file='input/sat2019.yml', is_success=is_success)\n",
    "campaign_df = my_analysis.campaign_df"
   ]
  },
  {
   "cell_type": "code",
   "execution_count": null,
   "metadata": {
    "scrolled": false
   },
   "outputs": [],
   "source": [
    "subset = {\n",
    "    'CaDiCaL default',\n",
    "    'MapleLCMDistChronoBT-DL-v2.2 default',\n",
    "    'MapleLCMDistChronoBT-DL-v2.1 default',\n",
    "    'MapleLCMDiscChronoBT-DL-v3 default',\n",
    "    'cmsatv56-walksat-chronobt default',\n",
    "}\n",
    "\n",
    "xpware_map = {\n",
    "    'CaDiCaL default': r'$\\textrm{CaDiCaL}^\\textrm{default}$',\n",
    "    'MapleLCMDistChronoBT-DL-v2.2 default': r'$\\textrm{MapleLCMDistChronoBT-DL-v2.2}^\\textrm{default}$',\n",
    "    'MapleLCMDistChronoBT-DL-v2.1 default': r'$\\textrm{MapleLCMDistChronoBT-DL-v2.1}^\\textrm{default}$',\n",
    "    'MapleLCMDiscChronoBT-DL-v3 default': r'$\\textrm{MapleLCMDiscChronoBT-DL-v3}^\\textrm{default}$',\n",
    "    'cmsatv56-walksat-chronobt default': r'$\\textrm{cmsatv56-walksat-chronobt}^\\textrm{default}$',\n",
    "}\n",
    "\n",
    "sub_campaign_df = campaign_df.sub_data_frame('experiment_ware', subset)\n",
    "\n",
    "scatter = BoxMPL(\n",
    "    sub_campaign_df, \n",
    "    box_col='cpu_time',\n",
    "    \n",
    "    output='output/box.svg', # output path or None\n",
    "    figsize=(15,10),         # size of the figure to output (inch)\n",
    "    \n",
    "    xp_ware_name_map=xpware_map, # a map to rename experimentwares\n",
    "    \n",
    "    # font properties\n",
    "    font_name='DejaVu Sans',\n",
    "    font_size=11,\n",
    "    font_color='#000000',\n",
    "    latex_writing=True, # if True, permits to write in latex mode (make attention to some characters)\n",
    "    \n",
    "    logy=True, # log scale to y-axis\n",
    ")\n",
    "display(scatter.get_figure())"
   ]
  }
 ],
 "metadata": {
  "kernelspec": {
   "display_name": "Python 3",
   "language": "python",
   "name": "python3"
  },
  "language_info": {
   "codemirror_mode": {
    "name": "ipython",
    "version": 3
   },
   "file_extension": ".py",
   "mimetype": "text/x-python",
   "name": "python",
   "nbconvert_exporter": "python",
   "pygments_lexer": "ipython3",
   "version": "3.7.3"
  }
 },
 "nbformat": 4,
 "nbformat_minor": 2
}
