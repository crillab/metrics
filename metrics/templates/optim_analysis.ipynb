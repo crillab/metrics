{
 "cells": [
  {
   "cell_type": "markdown",
   "id": "93c66a35",
   "metadata": {
    "pycharm": {
     "name": "#%% md\n"
    }
   },
   "source": [
    "# Analysis of the Best Bounds"
   ]
  },
  {
   "cell_type": "markdown",
   "id": "c0b072ce",
   "metadata": {
    "pycharm": {
     "name": "#%% md\n"
    }
   },
   "source": [
    "In this notebook, we now analyze the performance of the different experiment-wares in terms of the (intermediate) best bounds they found.\n",
    "More precisely, we compare the experiment-wares based on the best values they can find, and how fast they find them."
   ]
  },
  {
   "cell_type": "markdown",
   "id": "98298274",
   "metadata": {
    "pycharm": {
     "name": "#%% md\n"
    }
   },
   "source": [
    "## Imports"
   ]
  },
  {
   "cell_type": "markdown",
   "id": "d3f844f6",
   "metadata": {
    "pycharm": {
     "name": "#%% md\n"
    }
   },
   "source": [
    "As usual, we start by importing the needed classes and constants from *Metrics-Wallet*."
   ]
  },
  {
   "cell_type": "code",
   "execution_count": null,
   "id": "3a79d77f",
   "metadata": {
    "pycharm": {
     "name": "#%%\n"
    }
   },
   "outputs": [],
   "source": [
    "from metrics.wallet import BasicAnalysis, OptiAnalysis\n",
    "from metrics.wallet.analysis import borda_score, dominance_score, norm_bound_score, optimality_score"
   ]
  },
  {
   "cell_type": "markdown",
   "id": "d019b9e1",
   "metadata": {
    "pycharm": {
     "name": "#%% md\n"
    }
   },
   "source": [
    "## Loading the data of the experiments"
   ]
  },
  {
   "cell_type": "markdown",
   "id": "a11be820",
   "metadata": {
    "pycharm": {
     "name": "#%% md\n"
    }
   },
   "source": [
    "In a [dedicated notebook]({{ load_notebook }}.ipynb), we already read and preprocessed the data collected during our experiments.\n",
    "We can now simply reload the cached `BasicAnalysis` to retrieve it."
   ]
  },
  {
   "cell_type": "code",
   "execution_count": null,
   "id": "5f753b27",
   "metadata": {
    "pycharm": {
     "name": "#%%\n"
    }
   },
   "outputs": [],
   "source": [
    "basic_analysis = BasicAnalysis.import_from_file('.cache')"
   ]
  },
  {
   "cell_type": "markdown",
   "id": "cf330a72",
   "metadata": {
    "pycharm": {
     "name": "#%% md\n"
    }
   },
   "source": [
    "For the purpose of an optimization analysis, we need to provide an additional *sampling* parameter.\n",
    "This sampling allows to divide the runtime of the experiment-wares in different steps, and to identify for each experiment-ware the best bound it has found at this step."
   ]
  },
  {
   "cell_type": "code",
   "execution_count": null,
   "id": "ae6c339b",
   "metadata": {
    "pycharm": {
     "name": "#%%\n"
    }
   },
   "outputs": [],
   "source": [
    "timeout = {{ timeout }}\n",
    "n_samples = 200\n",
    "sampling = list(range(1, timeout, timeout // n_samples))"
   ]
  },
  {
   "cell_type": "markdown",
   "id": "2c6e3951",
   "metadata": {
    "pycharm": {
     "name": "#%% md\n"
    }
   },
   "source": [
    "Since we now want to perform a more specific analysis, we need to create an `OptiAnalysis` from the `BasicAnalysis`, to get methods that are dedicated to the analysis of the bounds found on optimization problems."
   ]
  },
  {
   "cell_type": "code",
   "execution_count": null,
   "id": "65d19a54",
   "metadata": {
    "pycharm": {
     "name": "#%%\n"
    }
   },
   "outputs": [],
   "source": [
    "analysis = OptiAnalysis(basic_analysis=basic_analysis, samp=sampling)"
   ]
  },
  {
   "cell_type": "markdown",
   "id": "a8165806",
   "metadata": {
    "pycharm": {
     "name": "#%% md\n"
    }
   },
   "source": [
    "## Score computations"
   ]
  },
  {
   "cell_type": "markdown",
   "id": "99e5eeb8",
   "metadata": {
    "pycharm": {
     "name": "#%% md\n"
    }
   },
   "source": [
    "To draw plots dedicated to an optimization analysis, we need to compute the scores of each experiment-ware on each input.\n",
    "These scores may be computed absolutely, or relatively to an experiment-ware that we call the *default experiment-ware*.\n",
    "If such a default experiment-ware is to be used, its name should be set below."
   ]
  },
  {
   "cell_type": "code",
   "execution_count": null,
   "outputs": [],
   "source": [
    "default_xp_ware = None"
   ],
   "metadata": {
    "collapsed": false,
    "pycharm": {
     "name": "#%%\n"
    }
   }
  },
  {
   "cell_type": "markdown",
   "source": [
    "We consider here the default scoring schemes provided by *Metrics*, namely:\n",
    "\n",
    "+ `optimality`, which is equal to 1 if the experiment-ware has found an optimal bound, and 0 otherwise,\n",
    "+ `dominance`, which is equal to 1 if the current bound is the best bound found so far for this input,\n",
    "+ `norm_bound`, which is the normalization of the current bound, based on the current minimum and maximum values found for this input, and\n",
    "+ `borda`, which is based on the Borda count method, and obtained by rating each experiment-ware for a given input.\n",
    "\n",
    "You may use all these scores, or only some of them, by putting them or not in the dictionary below."
   ],
   "metadata": {
    "collapsed": false,
    "pycharm": {
     "name": "#%% md\n"
    }
   }
  },
  {
   "cell_type": "code",
   "execution_count": null,
   "outputs": [],
   "source": [
    "score_methods = {\n",
    "    'optimality': optimality_score,\n",
    "    'dominance': dominance_score,\n",
    "    'norm_bound': norm_bound_score,\n",
    "    'borda': borda_score\n",
    "}"
   ],
   "metadata": {
    "collapsed": false,
    "pycharm": {
     "name": "#%%\n"
    }
   }
  },
  {
   "cell_type": "markdown",
   "source": [],
   "metadata": {
    "collapsed": false,
    "pycharm": {
     "name": "#%% md\n"
    }
   }
  },
  {
   "cell_type": "markdown",
   "id": "c1004fe4",
   "metadata": {
    "pycharm": {
     "name": "#%% md\n"
    }
   },
   "source": [
    "Let us now compute the scores of the experiment-wares.\n",
    "This computation is made **for each input**, by rating the intermediate bounds found by **all the experiment-wares** considered in the analysis."
   ]
  },
  {
   "cell_type": "code",
   "execution_count": null,
   "id": "01be4478",
   "metadata": {
    "scrolled": false,
    "pycharm": {
     "name": "#%%\n"
    }
   },
   "outputs": [],
   "source": [
    "%%time\n",
    "analysis.compute_scores(default_solver=default_xp_ware, score_map=score_methods)"
   ]
  },
  {
   "cell_type": "markdown",
   "id": "02815d19",
   "metadata": {
    "pycharm": {
     "name": "#%% md\n"
    }
   },
   "source": [
    "## Plots"
   ]
  },
  {
   "cell_type": "markdown",
   "id": "9279e3f9",
   "metadata": {
    "pycharm": {
     "name": "#%% md\n"
    }
   },
   "source": [
    "Now that we have computed the scores of the experiment-wares for each input, we can draw the corresponding plots.\n",
    "They provide, for each experiment-ware, an aggregated view of the evolution of the quality of the bounds they found w.r.t. their runtime and the other experiment-wares."
   ]
  },
  {
   "cell_type": "code",
   "execution_count": null,
   "id": "d68493e0",
   "metadata": {
    "pycharm": {
     "name": "#%%\n"
    }
   },
   "outputs": [],
   "source": [
    "analysis.opti_line_plot(\n",
    "    col='optimality_minus_def' if default_xp_ware else 'optimality',\n",
    "    show_marker=False,\n",
    "\n",
    "    title='Evolution of optimality scores',\n",
    "    x_axis_name='Time (s)',\n",
    "    y_axis_name='Optimality score',\n",
    "\n",
    "    latex_writing=True\n",
    ")"
   ]
  },
  {
   "cell_type": "code",
   "execution_count": null,
   "id": "c6adaec5",
   "metadata": {
    "pycharm": {
     "name": "#%%\n"
    }
   },
   "outputs": [],
   "source": [
    "analysis.opti_line_plot(\n",
    "    col='dominance_minus_def' if default_xp_ware else 'dominance',\n",
    "    show_marker=False,\n",
    "\n",
    "    title='Evolution of dominance scores',\n",
    "    x_axis_name='Time (s)',\n",
    "    y_axis_name='Dominance score',\n",
    "\n",
    "    latex_writing=True\n",
    ")"
   ]
  },
  {
   "cell_type": "code",
   "execution_count": null,
   "id": "e8c7cb01",
   "metadata": {
    "pycharm": {
     "name": "#%%\n"
    }
   },
   "outputs": [],
   "source": [
    "analysis.opti_line_plot(\n",
    "    col='norm_bound_minus_def' if default_xp_ware else 'norm_bound',\n",
    "    show_marker=False,\n",
    "\n",
    "    title='Evolution of normalized bounds',\n",
    "    x_axis_name='Time (s)',\n",
    "    y_axis_name='Normalized bound',\n",
    "\n",
    "    latex_writing=True\n",
    ")"
   ]
  },
  {
   "cell_type": "code",
   "execution_count": null,
   "id": "dca66346",
   "metadata": {
    "scrolled": false,
    "pycharm": {
     "name": "#%%\n"
    }
   },
   "outputs": [],
   "source": [
    "analysis.opti_line_plot(\n",
    "    col='borda_minus_def' if default_xp_ware else 'borda',\n",
    "    show_marker=False,\n",
    "\n",
    "    title='Evolution of Borda scores',\n",
    "    x_axis_name='Time (s)',\n",
    "    y_axis_name='Borda score',\n",
    "\n",
    "    latex_writing=True\n",
    ")"
   ]
  },
  {
   "cell_type": "markdown",
   "source": [
    "**TODO: PLEASE ADD HERE THE INTERPRETATION OF THE PLOTS THAT HAVE BEEN DRAWN ABOVE!**"
   ],
   "metadata": {
    "collapsed": false,
    "pycharm": {
     "name": "#%% md\n"
    }
   }
  }
 ],
 "metadata": {
  "kernelspec": {
   "display_name": "Python 3 (ipykernel)",
   "language": "python",
   "name": "python3"
  },
  "language_info": {
   "codemirror_mode": {
    "name": "ipython",
    "version": 3
   },
   "file_extension": ".py",
   "mimetype": "text/x-python",
   "name": "python",
   "nbconvert_exporter": "python",
   "pygments_lexer": "ipython3",
   "version": "3.10.1"
  }
 },
 "nbformat": 4,
 "nbformat_minor": 5
}
